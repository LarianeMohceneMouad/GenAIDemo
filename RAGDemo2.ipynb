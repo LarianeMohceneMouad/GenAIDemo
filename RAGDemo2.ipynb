{
 "cells": [
  {
   "cell_type": "markdown",
   "metadata": {},
   "source": [
    "Now that you have your Azure resources, an index, and model in place, you can run the script to chat with the index."
   ]
  },
  {
   "cell_type": "code",
   "execution_count": 1,
   "metadata": {},
   "outputs": [],
   "source": [
    "AZURE_SEARCH_SERVICE: str = \"https://genai-demo.search.windows.net\"\n",
    "AZURE_OPENAI_ACCOUNT: str = \"https://genai-demo-ai-service257079427610.openai.azure.com/\"\n",
    "AZURE_DEPLOYMENT_MODEL: str = \"gpt-4o\""
   ]
  },
  {
   "cell_type": "code",
   "execution_count": null,
   "metadata": {},
   "outputs": [
    {
     "name": "stdout",
     "output_type": "stream",
     "text": [
      "Head Wind Resort:The best of old town hospitality combined with views of the river and cool breezes off the prairie. Our penthouse suites offer views for miles and the rooftop plaza is open to all guests from sunset to 10 p.m. Enjoy a complimentary continental breakfast in the lobby, and free Wi-Fi throughout the hotel.:['coffee in lobby', 'free wifi', 'view']\n",
      "Waterfront Scottish Inn:Newly Redesigned Rooms & airport shuttle. Minutes from the airport, enjoy lakeside amenities, a resort-style pool & stylish new guestrooms with Internet TVs.:['24-hour front desk service', 'continental breakfast', 'free wifi']\n",
      "Swan Bird Lake Inn:We serve a continental-style breakfast each morning, featuring a variety of food and drinks. Our locally made, oh-so-soft, caramel cinnamon rolls are a favorite with our guests. Other breakfast items include coffee, orange juice, milk, cereal, instant oatmeal, bagels, and muffins.:['continental breakfast', 'free wifi', '24-hour front desk service']\n",
      "Thunderbird Motel:Book Now & Save. Clean, Comfortable rooms at the lowest price. Enjoy complimentary coffee and tea in common areas.:['coffee in lobby', 'free parking', 'free wifi']\n",
      "White Mountain Lodge & Suites:Live amongst the trees in the heart of the forest. Hike along our extensive trail system. Visit the Natural Hot Springs, or enjoy our signature hot stone massage in the Cathedral of Firs. Relax in the meditation gardens, or join new friends around the communal firepit. Weekend evening entertainment on the patio features special guest musicians or poetry readings.:['continental breakfast', 'pool', 'restaurant']\n",
      "Here are some hotels that offer complimentary breakfast:\n",
      "\n",
      "- **Head Wind Resort**: Offers a complimentary continental breakfast in the lobby.  \n",
      "- **Waterfront Scottish Inn**: Provides a continental breakfast along with lakeside amenities.  \n",
      "- **Swan Bird Lake Inn**: Serves a continental-style breakfast, including caramel cinnamon rolls, bagels, muffins, coffee, and more.  \n",
      "- **White Mountain Lodge & Suites**: Includes a continental breakfast with your stay.  \n",
      "\n",
      "Let me know if you'd like more information about these options!\n"
     ]
    }
   ],
   "source": [
    "from azure.identity import DefaultAzureCredential\n",
    "from azure.identity import get_bearer_token_provider\n",
    "from azure.search.documents import SearchClient\n",
    "from openai import AzureOpenAI\n",
    "\n",
    "\n",
    "credential = DefaultAzureCredential()\n",
    "token_provider = get_bearer_token_provider(credential, \"https://cognitiveservices.azure.com/.default\")\n",
    "openai_client = AzureOpenAI(\n",
    "    api_version=\"2024-06-01\",\n",
    "    azure_endpoint=AZURE_OPENAI_ACCOUNT,\n",
    "    azure_ad_token_provider=token_provider\n",
    ")\n",
    "\n",
    "search_client = SearchClient(\n",
    "    endpoint=AZURE_SEARCH_SERVICE,\n",
    "    index_name=\"hotels-sample-index\",\n",
    "    credential=credential\n",
    ")\n",
    "\n",
    "GROUNDED_PROMPT=\"\"\"\n",
    "You are a friendly assistant that recommends hotels based on activities and amenities.\n",
    "Answer the query using only the sources provided below in a friendly and concise bulleted manner.\n",
    "Answer ONLY with the facts listed in the list of sources below.\n",
    "If there isn't enough information below, say you don't know.\n",
    "Do not generate answers that don't use the sources below.\n",
    "Query: {query}\n",
    "Sources:\\n{sources}\n",
    "\"\"\"\n",
    "\n",
    "query=\"Can you recommend a few hotels with complimentary breakfast?\"\n",
    "\n",
    "search_results = search_client.search(\n",
    "    search_text=query,\n",
    "    top=5,\n",
    "    select=\"Description,HotelName,Tags\",\n",
    "    query_type=\"semantic\",\n",
    "    semantic_configuration_name=\"semantic-config\"\n",
    ")\n",
    "sources_formatted = \"\\n\".join([f'{document[\"HotelName\"]}:{document[\"Description\"]}:{document[\"Tags\"]}' for document in search_results])\n",
    "print(sources_formatted)\n",
    "\n",
    "response = openai_client.chat.completions.create(\n",
    "    messages=[\n",
    "        {\n",
    "            \"role\": \"user\",\n",
    "            \"content\": GROUNDED_PROMPT.format(query=query, sources=sources_formatted)\n",
    "        }\n",
    "    ],\n",
    "    model=AZURE_DEPLOYMENT_MODEL\n",
    ")\n",
    "\n",
    "print(response.choices[0].message.content)"
   ]
  },
  {
   "cell_type": "code",
   "execution_count": 3,
   "metadata": {},
   "outputs": [
    {
     "name": "stdout",
     "output_type": "stream",
     "text": [
      "Here are some hotel recommendations that offer complimentary breakfast and rooms for four people:\n",
      "\n",
      "### Head Wind Resort\n",
      "- **Description**: Combines old-town hospitality with river views and cool prairie breezes. Guests can enjoy a complimentary continental breakfast and access to a rooftop plaza open until 10 p.m.\n",
      "- **Address**: 7633 E 63rd Pl, Tulsa, OK 74133, USA\n",
      "- **Tags**: Complimentary breakfast, free Wi-Fi, picturesque views\n",
      "- **Room for 4**: Suite with 2 Queen Beds for **$254.99**\n",
      "  \n",
      "### Waterfront Scottish Inn\n",
      "- **Description**: Newly redesigned rooms near the airport with lakeside amenities, a resort-style pool, and in-room Internet TVs.\n",
      "- **Address**: 3301 Veterans Memorial Blvd, Metairie, LA 70002, USA\n",
      "- **Tags**: Continental breakfast, free Wi-Fi\n",
      "- **Room for 4**: Budget Room with 2 Queen Beds for **$85.99**\n",
      "\n",
      "### Nordick's Valley Motel\n",
      "- **Description**: Close to historic valley attractions like hiking and wine tasting. Guests can enjoy specially priced packages to enhance their stay.\n",
      "- **Address**: 1401 I St NW, Washington D.C., 20005, USA\n",
      "- **Tags**: Continental breakfast, free parking, air conditioning\n",
      "- **Room for 4**: Standard Room with 2 Queen Beds for **$120.99**\n",
      "\n",
      "Let me know if you need further assistance! 😊\n"
     ]
    }
   ],
   "source": [
    "import json\n",
    "\n",
    "# Query is the question being asked. It's sent to the search engine and the LLM.\n",
    "query=\"Can you recommend a few hotels that offer complimentary breakfast? Tell me their description, address, tags, and the rate for one room they have which sleep 4 people.\"\n",
    "\n",
    "# Set up the search results and the chat thread.\n",
    "# Retrieve the selected fields from the search index related to the question.\n",
    "selected_fields = [\"HotelName\",\"Description\",\"Address\",\"Rooms\",\"Tags\"]\n",
    "search_results = search_client.search(\n",
    "    search_text=query,\n",
    "    top=5,\n",
    "    select=selected_fields,\n",
    "    query_type=\"semantic\",\n",
    "    semantic_configuration_name=\"semantic-config\"\n",
    "\n",
    ")\n",
    "sources_filtered = [{field: result[field] for field in selected_fields} for result in search_results]\n",
    "sources_formatted = \"\\n\".join([json.dumps(source) for source in sources_filtered])\n",
    "response = openai_client.chat.completions.create(\n",
    "    messages=[\n",
    "        {\n",
    "            \"role\": \"user\",\n",
    "            \"content\": GROUNDED_PROMPT.format(query=query, sources=sources_formatted)\n",
    "        }\n",
    "    ],\n",
    "    model=AZURE_DEPLOYMENT_MODEL\n",
    ")\n",
    "\n",
    "print(response.choices[0].message.content)\n"
   ]
  }
 ],
 "metadata": {
  "kernelspec": {
   "display_name": "venv",
   "language": "python",
   "name": "python3"
  },
  "language_info": {
   "codemirror_mode": {
    "name": "ipython",
    "version": 3
   },
   "file_extension": ".py",
   "mimetype": "text/x-python",
   "name": "python",
   "nbconvert_exporter": "python",
   "pygments_lexer": "ipython3",
   "version": "3.13.2"
  }
 },
 "nbformat": 4,
 "nbformat_minor": 2
}
