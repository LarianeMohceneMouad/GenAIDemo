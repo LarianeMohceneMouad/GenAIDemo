{
 "cells": [
  {
   "cell_type": "markdown",
   "metadata": {},
   "source": [
    "Now that you have your Azure resources, an index, and model in place, you can run the script to chat with the index."
   ]
  },
  {
   "cell_type": "code",
   "execution_count": 7,
   "metadata": {},
   "outputs": [],
   "source": [
    "import os\n",
    "from dotenv import load_dotenv\n",
    "\n",
    "load_dotenv()  \n",
    "AZURE_SEARCH_SERVICE = os.getenv(\"AISEARCH_API_ENDPOINT\")\n",
    "AZURE_OPENAI_ACCOUNT = os.getenv(\"AZURE_OPENAI_ACCOUNT\")\n",
    "AZURE_DEPLOYMENT_MODEL = os.getenv(\"DEPLOYMENT_NAME\")"
   ]
  },
  {
   "cell_type": "code",
   "execution_count": 9,
   "metadata": {},
   "outputs": [
    {
     "name": "stdout",
     "output_type": "stream",
     "text": [
      "Starlight Suites:Complimentary Airport Shuttle & WiFi. Book Now and save - Spacious All Suite Hotel, Indoor Outdoor Pool, Fitness Center, Florida Green certified, Complimentary Coffee, HDTV:['pool', 'coffee in lobby', 'free wifi']\n",
      "Head Wind Resort:The best of old town hospitality combined with views of the river and cool breezes off the prairie. Our penthouse suites offer views for miles and the rooftop plaza is open to all guests from sunset to 10 p.m. Enjoy a complimentary continental breakfast in the lobby, and free Wi-Fi throughout the hotel.:['coffee in lobby', 'free wifi', 'view']\n",
      "Stay-Kay City Hotel:This classic hotel is fully-refurbished and ideally located on the main commercial artery of the city in the heart of New York. A few minutes away is Times Square and the historic centre of the city, as well as other places of interest that make New York one of America's most attractive and cosmopolitan cities.:['view', 'air conditioning', 'concierge']\n",
      "Good Business Hotel:1 Mile from the airport. Free WiFi, Outdoor Pool, Complimentary Airport Shuttle, 6 miles from Lake Lanier & 10 miles from downtown. Our business center includes printers, a copy machine, fax, and a work area.:['pool', 'continental breakfast', 'free parking']\n",
      "Gastronomic Landscape Hotel:The Gastronomic Hotel stands out for its culinary excellence under the management of William Dough, who advises on and oversees all of the Hotel’s restaurant services.:['restaurant', 'bar', 'continental breakfast']\n",
      "Here are a few hotels offering complimentary breakfast:\n",
      "\n",
      "- **Head Wind Resort**: Provides a complimentary continental breakfast in the lobby alongside free Wi-Fi and scenic views of the river.  \n",
      "- **Good Business Hotel**: Offers a continental breakfast and is conveniently located near the airport with free parking and an outdoor pool.  \n",
      "- **Gastronomic Landscape Hotel**: Known for its culinary excellence, this hotel includes a continental breakfast as part of its offerings.  \n",
      "\n",
      "If these options match your preference, feel free to explore further!\n"
     ]
    }
   ],
   "source": [
    "from azure.identity import DefaultAzureCredential\n",
    "from azure.identity import get_bearer_token_provider\n",
    "from azure.search.documents import SearchClient\n",
    "from openai import AzureOpenAI\n",
    "\n",
    "\n",
    "credential = DefaultAzureCredential()\n",
    "token_provider = get_bearer_token_provider(credential, \"https://cognitiveservices.azure.com/.default\")\n",
    "openai_client = AzureOpenAI(\n",
    "    api_version=\"2024-06-01\",\n",
    "    azure_endpoint=AZURE_OPENAI_ACCOUNT,\n",
    "    azure_ad_token_provider=token_provider\n",
    ")\n",
    "\n",
    "search_client = SearchClient(\n",
    "    endpoint=AZURE_SEARCH_SERVICE,\n",
    "    index_name=\"hotels-sample-index\",\n",
    "    credential=credential\n",
    ")\n",
    "\n",
    "GROUNDED_PROMPT=\"\"\"\n",
    "You are a friendly assistant that recommends hotels based on activities and amenities.\n",
    "Answer the query using only the sources provided below in a friendly and concise bulleted manner.\n",
    "Answer ONLY with the facts listed in the list of sources below.\n",
    "If there isn't enough information below, say you don't know.\n",
    "Do not generate answers that don't use the sources below.\n",
    "Query: {query}\n",
    "Sources:\\n{sources}\n",
    "\"\"\"\n",
    "\n",
    "query=\"Can you recommend a few hotels with complimentary breakfast?\"\n",
    "\n",
    "search_results = search_client.search(\n",
    "    search_text=query,\n",
    "    top=5,\n",
    "    select=\"Description,HotelName,Tags\"\n",
    ")\n",
    "sources_formatted = \"\\n\".join([f'{document[\"HotelName\"]}:{document[\"Description\"]}:{document[\"Tags\"]}' for document in search_results])\n",
    "print(sources_formatted)\n",
    "\n",
    "response = openai_client.chat.completions.create(\n",
    "    messages=[\n",
    "        {\n",
    "            \"role\": \"user\",\n",
    "            \"content\": GROUNDED_PROMPT.format(query=query, sources=sources_formatted)\n",
    "        }\n",
    "    ],\n",
    "    model=AZURE_DEPLOYMENT_MODEL\n",
    ")\n",
    "\n",
    "print(response.choices[0].message.content)"
   ]
  },
  {
   "cell_type": "code",
   "execution_count": null,
   "metadata": {},
   "outputs": [
    {
     "name": "stdout",
     "output_type": "stream",
     "text": [
      "Here are some great hotel options that offer complimentary breakfast and have rooms that sleep 4 people:\n",
      "\n",
      "1. **Head Wind Resort**\n",
      "   - **Description:** Combines old town hospitality with river views and prairie breezes. Features a rooftop plaza open evenings and complimentary continental breakfast in the lobby. Free Wi-Fi throughout.\n",
      "   - **Address:** 7633 E 63rd Pl, Tulsa, OK, 74133, USA.\n",
      "   - **Room:** \"Suite, 2 Queen Beds (Amenities)\" with 2 Queen Beds, sleeps 4, at $254.99 per night. Non-smoking.\n",
      "   - **Tags:** Coffee maker.\n",
      "\n",
      "2. **Nordick's Valley Motel**\n",
      "   - **Description:** Close to the nation's capital, offering access to hiking, wine tasting, and caverns. Includes specially priced packages and continental breakfast.\n",
      "   - **Address:** 1401 I St NW, Washington D.C., 20005, USA.\n",
      "   - **Room:** \"Standard Room, 2 Queen Beds (City View)\" with 2 Queen Beds, sleeps 4, at $135.99 per night. Smoking allowed.\n",
      "   - **Tags:** Suite, coffee maker.\n",
      "\n",
      "3. **Waterfront Scottish Inn**\n",
      "   - **Description:** Minutes from the airport with lakeside amenities, a resort-style pool, and Internet TVs in modern guestrooms. Offers continental breakfast.\n",
      "   - **Address:** 3301 Veterans Memorial Blvd, Metairie, LA, 70002, USA.\n",
      "   - **Room:** \"Deluxe Room, 2 Queen Beds (City View)\" with 2 Queen Beds, sleeps 4, at $140.99 per night. Non-smoking.\n",
      "   - **Tags:** Jacuzzi tub.\n",
      "\n",
      "Feel free to ask for additional recommendations based on your preferences! 😊\n"
     ]
    }
   ],
   "source": [
    "import json\n",
    "\n",
    "# Query is the question being asked. It's sent to the search engine and the LLM.\n",
    "query=\"Can you recommend a few hotels that offer complimentary breakfast? Tell me their description, address, tags, and the rate for one room they have which sleep 4 people.\"\n",
    "\n",
    "# Set up the search results and the chat thread.\n",
    "# Retrieve the selected fields from the search index related to the question.\n",
    "selected_fields = [\"HotelName\",\"Description\",\"Address\",\"Rooms\",\"Tags\"]\n",
    "search_results = search_client.search(\n",
    "    search_text=query,\n",
    "    top=5,\n",
    "    select=selected_fields\n",
    "\n",
    ")\n",
    "sources_filtered = [{field: result[field] for field in selected_fields} for result in search_results]\n",
    "sources_formatted = \"\\n\".join([json.dumps(source) for source in sources_filtered])\n",
    "response = openai_client.chat.completions.create(\n",
    "    messages=[\n",
    "        {\n",
    "            \"role\": \"user\",\n",
    "            \"content\": GROUNDED_PROMPT.format(query=query, sources=sources_formatted)\n",
    "        }\n",
    "    ],\n",
    "    model=AZURE_DEPLOYMENT_MODEL\n",
    ")\n",
    "\n",
    "print(response.choices[0].message.content)\n"
   ]
  }
 ],
 "metadata": {
  "kernelspec": {
   "display_name": "venv",
   "language": "python",
   "name": "python3"
  },
  "language_info": {
   "codemirror_mode": {
    "name": "ipython",
    "version": 3
   },
   "file_extension": ".py",
   "mimetype": "text/x-python",
   "name": "python",
   "nbconvert_exporter": "python",
   "pygments_lexer": "ipython3",
   "version": "3.13.2"
  }
 },
 "nbformat": 4,
 "nbformat_minor": 2
}
